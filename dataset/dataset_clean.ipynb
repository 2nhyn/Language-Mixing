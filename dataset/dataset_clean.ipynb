{
 "cells": [
  {
   "cell_type": "markdown",
   "id": "694d3f87",
   "metadata": {},
   "source": [
    "json 파일에서 중복 제거하는 코드\n",
    "\n",
    "`input_key = item[\"\"]` 여기만 바꿔서 사용하면 됨요~"
   ]
  },
  {
   "cell_type": "code",
   "execution_count": 6,
   "id": "31bf92de",
   "metadata": {},
   "outputs": [],
   "source": [
    "import json\n",
    "from collections import OrderedDict\n",
    "\n",
    "# JSON 파일 로드\n",
    "def load_json(file_path):\n",
    "    with open(file_path, 'r', encoding='utf-8') as f:\n",
    "        return json.load(f)\n",
    "\n",
    "# 중복 제거\n",
    "def remove_duplicates(data):\n",
    "    seen = set()\n",
    "    unique_data = []\n",
    "    for item in data:\n",
    "        input_key = item['rejected']\n",
    "        if input_key not in seen:\n",
    "            unique_data.append(item)\n",
    "            seen.add(input_key)\n",
    "    return unique_data\n",
    "\n",
    "# JSON 파일 저장\n",
    "def save_json(data, file_path):\n",
    "    with open(file_path, 'w', encoding='utf-8') as f:\n",
    "        json.dump(data, f, ensure_ascii=False, indent=4)\n",
    "\n",
    "# 메인 함수\n",
    "def main(input_file, output_file):\n",
    "    data = load_json(input_file)\n",
    "    unique_data = remove_duplicates(data)\n",
    "    save_json(unique_data, output_file)\n",
    "    print(f\"중복 제거 후 {len(unique_data)}개의 데이터가 저장되었습니다.\")\n"
   ]
  },
  {
   "cell_type": "code",
   "execution_count": 7,
   "id": "e412dc7a",
   "metadata": {},
   "outputs": [
    {
     "name": "stdout",
     "output_type": "stream",
     "text": [
      "중복 제거 후 681개의 데이터가 저장되었습니다.\n"
     ]
    }
   ],
   "source": [
    "# 실행\n",
    "input_file = 'orpo_train_data.json'  # 입력 JSON 파일 경로\n",
    "output_file = 'orpo_train_data.json'  # 출력 JSON 파일 경로\n",
    "main(input_file, output_file)"
   ]
  }
 ],
 "metadata": {
  "kernelspec": {
   "display_name": "base",
   "language": "python",
   "name": "python3"
  },
  "language_info": {
   "codemirror_mode": {
    "name": "ipython",
    "version": 3
   },
   "file_extension": ".py",
   "mimetype": "text/x-python",
   "name": "python",
   "nbconvert_exporter": "python",
   "pygments_lexer": "ipython3",
   "version": "3.10.13"
  }
 },
 "nbformat": 4,
 "nbformat_minor": 5
}
